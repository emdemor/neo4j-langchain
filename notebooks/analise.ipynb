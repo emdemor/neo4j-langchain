{
 "cells": [
  {
   "cell_type": "markdown",
   "id": "0557a001-25d8-430d-bd06-289e22481a71",
   "metadata": {},
   "source": [
    "https://realpython.com/build-llm-rag-chatbot-with-langchain/"
   ]
  },
  {
   "cell_type": "code",
   "execution_count": 1,
   "id": "bfb13806-da7d-400f-ab2c-eaa170becaad",
   "metadata": {},
   "outputs": [],
   "source": [
    "!pip install py2neo -q\n",
    "!pip install neo4j -q"
   ]
  },
  {
   "cell_type": "code",
   "execution_count": 1,
   "id": "8921e9ec-9964-436f-87a8-148678e5e2a8",
   "metadata": {},
   "outputs": [],
   "source": [
    "from neo4j import GraphDatabase\n",
    "from langchain.chains import GraphCypherQAChain\n",
    "from langchain_community.graphs import Neo4jGraph\n",
    "from langchain_openai import ChatOpenAI"
   ]
  },
  {
   "cell_type": "code",
   "execution_count": 10,
   "id": "d4c20f0a-7cf9-495e-ab73-498aa17b7b83",
   "metadata": {},
   "outputs": [],
   "source": [
    "from neo4j import GraphDatabase\n",
    "\n",
    "class GraphDBManager:\n",
    "    def __init__(self, uri, user, password):\n",
    "        self.driver = GraphDatabase.driver(uri, auth=(user, password))\n",
    "\n",
    "    def close(self):\n",
    "        self.driver.close()\n",
    "\n",
    "    def clear_database(self):\n",
    "        with self.driver.session() as session:\n",
    "            session.execute_write(self._delete_all)\n",
    "\n",
    "    @staticmethod\n",
    "    def _delete_all(tx):\n",
    "        query = \"MATCH (n) DETACH DELETE n\"\n",
    "        tx.run(query)\n",
    "\n",
    "    def create_person(self, name):\n",
    "        with self.driver.session() as session:\n",
    "            session.execute_write(self._create_and_return_person, name)\n",
    "\n",
    "    @staticmethod\n",
    "    def _create_and_return_person(tx, name):\n",
    "        query = \"CREATE (p:Person {name: $name}) RETURN p\"\n",
    "        tx.run(query, name=name)\n",
    "\n",
    "    def create_place(self, name):\n",
    "        with self.driver.session() as session:\n",
    "            session.execute_write(self._create_and_return_place, name)\n",
    "\n",
    "    @staticmethod\n",
    "    def _create_and_return_place(tx, name):\n",
    "        query = \"CREATE (p:Place {name: $name}) RETURN p\"\n",
    "        tx.run(query, name=name)\n",
    "\n",
    "    def relate_people(self, name1, name2, relationship_type):\n",
    "        with self.driver.session() as session:\n",
    "            session.execute_write(self._create_relationship, name1, name2, relationship_type)\n",
    "\n",
    "    @staticmethod\n",
    "    def _create_relationship(tx, name1, name2, relationship_type):\n",
    "        query = (\n",
    "            f\"MATCH (a:Person {{name: $name1}}), (b:Person {{name: $name2}}) \"\n",
    "            f\"CREATE (a)-[:{relationship_type}]->(b)\"\n",
    "        )\n",
    "        tx.run(query, name1=name1, name2=name2)\n",
    "\n",
    "    def person_visits_place(self, person_name, place_name):\n",
    "        with self.driver.session() as session:\n",
    "            session.execute_write(self._create_visit, person_name, place_name)\n",
    "\n",
    "    @staticmethod\n",
    "    def _create_visit(tx, person_name, place_name):\n",
    "        query = (\n",
    "            \"MATCH (p:Person {name: $person_name}), (l:Place {name: $place_name}) \"\n",
    "            \"CREATE (p)-[:VISITED]->(l)\"\n",
    "        )\n",
    "        tx.run(query, person_name=person_name, place_name=place_name)\n",
    "\n",
    "# Instantiate and use GraphDBManager\n",
    "db_manager = GraphDBManager(\"bolt://neo4j:7687\", \"neo4j\", \"password\")  # Adjust credentials\n",
    "\n",
    "# Clear existing data\n",
    "db_manager.clear_database()\n",
    "\n",
    "# Create persons and places\n",
    "persons = [\"Alice\", \"Bob\", \"Charlie\", \"David\", \"Eve\"]\n",
    "for person in persons:\n",
    "    db_manager.create_person(person)\n",
    "    \n",
    "places = [\"Café Central\", \"Biblioteca Municipal\", \"Parque da Cidade\"]\n",
    "for place in places:\n",
    "    db_manager.create_place(place)\n",
    "\n",
    "# Create relationships\n",
    "relationships = [\n",
    "    (\"Alice\", \"Bob\", \"FRIENDS\"),\n",
    "    (\"Charlie\", \"David\", \"CO_WORKERS\"),\n",
    "    (\"Eve\", \"David\", \"CO_WORKERS\"),\n",
    "    (\"Eve\", \"Alice\", \"FRIENDS\"),\n",
    "]\n",
    "for rel in relationships:\n",
    "    db_manager.relate_people(*rel)\n",
    "\n",
    "# People visiting places\n",
    "visits = [\n",
    "    (\"Alice\", \"Café Central\"),\n",
    "    (\"Bob\", \"Biblioteca Municipal\"),\n",
    "    (\"Charlie\", \"Parque da Cidade\"),\n",
    "    (\"Eve\", \"Parque da Cidade\"),\n",
    "]\n",
    "for visit in visits:\n",
    "    db_manager.person_visits_place(*visit)\n",
    "\n",
    "# Close the connection\n",
    "db_manager.close()\n"
   ]
  },
  {
   "attachments": {
    "c46283b2-0a15-41e4-b650-77f3a5eba14b.png": {
     "image/png": "[encoded data removed]"
    }
   },
   "cell_type": "markdown",
   "id": "4a55085d-0dc2-431d-8649-d558f543d525",
   "metadata": {},
   "source": [
    "![image.png](attachment:c46283b2-0a15-41e4-b650-77f3a5eba14b.png)"
   ]
  },
  {
   "cell_type": "code",
   "execution_count": 11,
   "id": "9cb3c6e2-1b62-4e9c-b0fd-02586dc717ab",
   "metadata": {},
   "outputs": [],
   "source": [
    "from langchain.chains import GraphCypherQAChain\n",
    "from langchain_community.graphs import Neo4jGraph\n",
    "from langchain_openai import ChatOpenAI\n",
    "\n",
    "graph = Neo4jGraph(url=\"bolt://neo4j:7687\", username=\"neo4j\", password=\"password\")"
   ]
  },
  {
   "cell_type": "code",
   "execution_count": 16,
   "id": "23cf1049-7ff9-419a-9357-33c56fd22d6e",
   "metadata": {},
   "outputs": [],
   "source": [
    "chain = GraphCypherQAChain.from_llm(\n",
    "    ChatOpenAI(temperature=0, model=\"gpt-4\"), graph=graph, verbose=True\n",
    ")"
   ]
  },
  {
   "cell_type": "code",
   "execution_count": 22,
   "id": "97fd027a-02b0-4544-bdce-961370f05cdf",
   "metadata": {},
   "outputs": [
    {
     "name": "stdout",
     "output_type": "stream",
     "text": [
      "\n",
      "\n",
      "\u001b[1m> Entering new GraphCypherQAChain chain...\u001b[0m\n",
      "Generated Cypher:\n",
      "\u001b[32;1m\u001b[1;3mMATCH (p:Person)-[:VISITED]->(pl:Place {name: 'Parque da Cidade'}) RETURN p.name\u001b[0m\n",
      "Full Context:\n",
      "\u001b[32;1m\u001b[1;3m[{'p.name': 'Charlie'}, {'p.name': 'Eve'}]\u001b[0m\n",
      "\n",
      "\u001b[1m> Finished chain.\u001b[0m\n"
     ]
    },
    {
     "data": {
      "text/plain": [
       "{'query': 'Quem visitou o Parque da Cidade?',\n",
       " 'result': 'Charlie e Eve visitaram o Parque da Cidade.'}"
      ]
     },
     "execution_count": 22,
     "metadata": {},
     "output_type": "execute_result"
    }
   ],
   "source": [
    "chain.invoke({\"query\": \"Quem visitou o Parque da Cidade?\"})"
   ]
  },
  {
   "cell_type": "code",
   "execution_count": 19,
   "id": "4b09dd49-5205-4028-a6f4-8abcc6e6d4a8",
   "metadata": {},
   "outputs": [
    {
     "name": "stdout",
     "output_type": "stream",
     "text": [
      "\n",
      "\n",
      "\u001b[1m> Entering new GraphCypherQAChain chain...\u001b[0m\n",
      "Generated Cypher:\n",
      "\u001b[32;1m\u001b[1;3mMATCH (p:Person)-[:CO_WORKERS]->(Person {name: 'Eve'}) RETURN p.name\u001b[0m\n",
      "Full Context:\n",
      "\u001b[32;1m\u001b[1;3m[]\u001b[0m\n",
      "\n",
      "\u001b[1m> Finished chain.\u001b[0m\n"
     ]
    },
    {
     "data": {
      "text/plain": [
       "{'query': 'Quem trabalha com Eve?',\n",
       " 'result': 'Desculpe, eu não sei quem trabalha com Eve.'}"
      ]
     },
     "execution_count": 19,
     "metadata": {},
     "output_type": "execute_result"
    }
   ],
   "source": [
    "chain.invoke({\"query\": \"Quem trabalha com Eve?\"})"
   ]
  }
 ],
 "metadata": {
  "kernelspec": {
   "display_name": "Python 3 (ipykernel)",
   "language": "python",
   "name": "python3"
  },
  "language_info": {
   "codemirror_mode": {
    "name": "ipython",
    "version": 3
   },
   "file_extension": ".py",
   "mimetype": "text/x-python",
   "name": "python",
   "nbconvert_exporter": "python",
   "pygments_lexer": "ipython3",
   "version": "3.11.6"
  }
 },
 "nbformat": 4,
 "nbformat_minor": 5
}
